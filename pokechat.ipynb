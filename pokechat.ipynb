{
 "cells": [
  {
   "cell_type": "code",
   "execution_count": 1,
   "id": "428bb6c1",
   "metadata": {
    "_cell_guid": "b1076dfc-b9ad-4769-8c92-a6c4dae69d19",
    "_uuid": "8f2839f25d086af736a60e9eeb907d3b93b6e0e5",
    "execution": {
     "iopub.execute_input": "2024-02-13T07:03:58.785891Z",
     "iopub.status.busy": "2024-02-13T07:03:58.785474Z",
     "iopub.status.idle": "2024-02-13T07:05:37.807041Z",
     "shell.execute_reply": "2024-02-13T07:05:37.806080Z"
    },
    "papermill": {
     "duration": 99.029654,
     "end_time": "2024-02-13T07:05:37.809597",
     "exception": false,
     "start_time": "2024-02-13T07:03:58.779943",
     "status": "completed"
    },
    "tags": []
   },
   "outputs": [
    {
     "name": "stdout",
     "output_type": "stream",
     "text": [
      "\u001b[31mERROR: pip's dependency resolver does not currently take into account all the packages that are installed. This behaviour is the source of the following dependency conflicts.\r\n",
      "cudf 23.8.0 requires cupy-cuda11x>=12.0.0, which is not installed.\r\n",
      "cuml 23.8.0 requires cupy-cuda11x>=12.0.0, which is not installed.\r\n",
      "dask-cudf 23.8.0 requires cupy-cuda11x>=12.0.0, which is not installed.\r\n",
      "apache-beam 2.46.0 requires dill<0.3.2,>=0.3.1.1, but you have dill 0.3.7 which is incompatible.\r\n",
      "apache-beam 2.46.0 requires pyarrow<10.0.0,>=3.0.0, but you have pyarrow 11.0.0 which is incompatible.\r\n",
      "cudf 23.8.0 requires pandas<1.6.0dev0,>=1.3, but you have pandas 2.0.3 which is incompatible.\r\n",
      "cudf 23.8.0 requires protobuf<5,>=4.21, but you have protobuf 3.20.3 which is incompatible.\r\n",
      "cuml 23.8.0 requires dask==2023.7.1, but you have dask 2023.12.1 which is incompatible.\r\n",
      "cuml 23.8.0 requires distributed==2023.7.1, but you have distributed 2023.12.1 which is incompatible.\r\n",
      "dask-cuda 23.8.0 requires dask==2023.7.1, but you have dask 2023.12.1 which is incompatible.\r\n",
      "dask-cuda 23.8.0 requires distributed==2023.7.1, but you have distributed 2023.12.1 which is incompatible.\r\n",
      "dask-cuda 23.8.0 requires pandas<1.6.0dev0,>=1.3, but you have pandas 2.0.3 which is incompatible.\r\n",
      "dask-cudf 23.8.0 requires dask==2023.7.1, but you have dask 2023.12.1 which is incompatible.\r\n",
      "dask-cudf 23.8.0 requires distributed==2023.7.1, but you have distributed 2023.12.1 which is incompatible.\r\n",
      "dask-cudf 23.8.0 requires pandas<1.6.0dev0,>=1.3, but you have pandas 2.0.3 which is incompatible.\r\n",
      "google-cloud-bigquery 2.34.4 requires packaging<22.0dev,>=14.3, but you have packaging 23.2 which is incompatible.\r\n",
      "google-cloud-pubsublite 1.8.3 requires overrides<7.0.0,>=6.0.1, but you have overrides 7.7.0 which is incompatible.\r\n",
      "jupyterlab 4.0.10 requires jupyter-lsp>=2.0.0, but you have jupyter-lsp 1.5.1 which is incompatible.\r\n",
      "jupyterlab-lsp 5.0.1 requires jupyter-lsp>=2.0.0, but you have jupyter-lsp 1.5.1 which is incompatible.\r\n",
      "kfp 2.0.1 requires google-cloud-storage<3,>=2.2.1, but you have google-cloud-storage 1.44.0 which is incompatible.\r\n",
      "kfp 2.0.1 requires kubernetes<27,>=8.0.0, but you have kubernetes 29.0.0 which is incompatible.\r\n",
      "libpysal 4.9.2 requires shapely>=2.0.1, but you have shapely 1.8.5.post1 which is incompatible.\r\n",
      "momepy 0.7.0 requires shapely>=2, but you have shapely 1.8.5.post1 which is incompatible.\r\n",
      "opentelemetry-exporter-otlp 1.19.0 requires opentelemetry-exporter-otlp-proto-grpc==1.19.0, but you have opentelemetry-exporter-otlp-proto-grpc 1.22.0 which is incompatible.\r\n",
      "opentelemetry-exporter-otlp-proto-http 1.19.0 requires opentelemetry-exporter-otlp-proto-common==1.19.0, but you have opentelemetry-exporter-otlp-proto-common 1.22.0 which is incompatible.\r\n",
      "opentelemetry-exporter-otlp-proto-http 1.19.0 requires opentelemetry-proto==1.19.0, but you have opentelemetry-proto 1.22.0 which is incompatible.\r\n",
      "opentelemetry-exporter-otlp-proto-http 1.19.0 requires opentelemetry-sdk~=1.19.0, but you have opentelemetry-sdk 1.22.0 which is incompatible.\r\n",
      "pymc3 3.11.5 requires numpy<1.22.2,>=1.15.0, but you have numpy 1.24.3 which is incompatible.\r\n",
      "pymc3 3.11.5 requires scipy<1.8.0,>=1.7.3, but you have scipy 1.11.4 which is incompatible.\r\n",
      "raft-dask 23.8.0 requires dask==2023.7.1, but you have dask 2023.12.1 which is incompatible.\r\n",
      "raft-dask 23.8.0 requires distributed==2023.7.1, but you have distributed 2023.12.1 which is incompatible.\r\n",
      "spopt 0.6.0 requires shapely>=2.0.1, but you have shapely 1.8.5.post1 which is incompatible.\r\n",
      "ydata-profiling 4.5.1 requires numpy<1.24,>=1.16.0, but you have numpy 1.24.3 which is incompatible.\u001b[0m\u001b[31m\r\n",
      "\u001b[0m"
     ]
    }
   ],
   "source": [
    "!pip install -qU \\\n",
    "    transformers \\\n",
    "    accelerate \\\n",
    "    bitsandbytes \\\n",
    "    langchain==0.0.354 \\\n",
    "    chromadb \\\n",
    "    voyageai "
   ]
  },
  {
   "cell_type": "code",
   "execution_count": 2,
   "id": "fed86e32",
   "metadata": {
    "execution": {
     "iopub.execute_input": "2024-02-13T07:05:37.819276Z",
     "iopub.status.busy": "2024-02-13T07:05:37.818984Z",
     "iopub.status.idle": "2024-02-13T07:06:06.901738Z",
     "shell.execute_reply": "2024-02-13T07:06:06.900609Z"
    },
    "papermill": {
     "duration": 29.090606,
     "end_time": "2024-02-13T07:06:06.904496",
     "exception": false,
     "start_time": "2024-02-13T07:05:37.813890",
     "status": "completed"
    },
    "tags": []
   },
   "outputs": [
    {
     "name": "stderr",
     "output_type": "stream",
     "text": [
      "/opt/conda/lib/python3.10/site-packages/scipy/__init__.py:146: UserWarning: A NumPy version >=1.16.5 and <1.23.0 is required for this version of SciPy (detected version 1.24.3\n",
      "  warnings.warn(f\"A NumPy version >={np_minversion} and <{np_maxversion}\"\n"
     ]
    }
   ],
   "source": [
    "from transformers import AutoTokenizer, AutoModelForCausalLM, BitsAndBytesConfig, pipeline\n",
    "import torch\n",
    "\n",
    "bnb_config = BitsAndBytesConfig(\n",
    "    load_in_4bit=True,\n",
    "    bnb_4bit_quant_type=\"nf4\",\n",
    "    bnb_4bit_use_double_quant=True,\n",
    ")"
   ]
  },
  {
   "cell_type": "code",
   "execution_count": 3,
   "id": "d5fd3538",
   "metadata": {
    "execution": {
     "iopub.execute_input": "2024-02-13T07:06:06.914441Z",
     "iopub.status.busy": "2024-02-13T07:06:06.913893Z",
     "iopub.status.idle": "2024-02-13T07:08:44.426973Z",
     "shell.execute_reply": "2024-02-13T07:08:44.425969Z"
    },
    "papermill": {
     "duration": 157.520465,
     "end_time": "2024-02-13T07:08:44.429349",
     "exception": false,
     "start_time": "2024-02-13T07:06:06.908884",
     "status": "completed"
    },
    "tags": []
   },
   "outputs": [
    {
     "data": {
      "application/vnd.jupyter.widget-view+json": {
       "model_id": "6b5fcfe5c810421c900d6f29d552cb2d",
       "version_major": 2,
       "version_minor": 0
      },
      "text/plain": [
       "Loading checkpoint shards:   0%|          | 0/2 [00:00<?, ?it/s]"
      ]
     },
     "metadata": {},
     "output_type": "display_data"
    },
    {
     "name": "stderr",
     "output_type": "stream",
     "text": [
      "/opt/conda/lib/python3.10/site-packages/torch/_utils.py:776: UserWarning: TypedStorage is deprecated. It will be removed in the future and UntypedStorage will be the only storage class. This should only matter to you if you are using storages directly.  To access UntypedStorage directly, use tensor.untyped_storage() instead of tensor.storage()\n",
      "  return self.fget.__get__(instance, owner)()\n"
     ]
    }
   ],
   "source": [
    "#getting mistral from kaggle and initialize tokenizer\n",
    "model_name = \"/kaggle/input/mistral/pytorch/7b-instruct-v0.1-hf/1\"\n",
    "\n",
    "tokenizer = AutoTokenizer.from_pretrained(model_name)\n",
    "model = AutoModelForCausalLM.from_pretrained(\n",
    "        model_name,\n",
    "        load_in_4bit=True,\n",
    "        quantization_config=bnb_config,\n",
    "        torch_dtype=torch.bfloat16,\n",
    "        device_map=\"auto\",\n",
    "        trust_remote_code=True,\n",
    "    )\n"
   ]
  },
  {
   "cell_type": "code",
   "execution_count": 4,
   "id": "67b00a9b",
   "metadata": {
    "execution": {
     "iopub.execute_input": "2024-02-13T07:08:44.439613Z",
     "iopub.status.busy": "2024-02-13T07:08:44.439276Z",
     "iopub.status.idle": "2024-02-13T07:08:44.690730Z",
     "shell.execute_reply": "2024-02-13T07:08:44.689886Z"
    },
    "papermill": {
     "duration": 0.259253,
     "end_time": "2024-02-13T07:08:44.693240",
     "exception": false,
     "start_time": "2024-02-13T07:08:44.433987",
     "status": "completed"
    },
    "tags": []
   },
   "outputs": [],
   "source": [
    "from langchain.llms import HuggingFacePipeline\n",
    "import transformers\n",
    "\n",
    "text_generation_pipeline = transformers.pipeline(\n",
    "    task=\"text-generation\",\n",
    "    model=model,\n",
    "    tokenizer=tokenizer,\n",
    "    device_map=\"auto\",\n",
    "    temperature=0.1,\n",
    "    do_sample=\"False\",\n",
    "    torch_dtype=torch.bfloat16,\n",
    "    repetition_penalty=1.2,\n",
    "    return_full_text=True,\n",
    "    max_new_tokens=300,\n",
    ")\n",
    "mistral_llm = HuggingFacePipeline(pipeline=text_generation_pipeline)"
   ]
  },
  {
   "cell_type": "markdown",
   "id": "9ea36a25",
   "metadata": {
    "papermill": {
     "duration": 0.004259,
     "end_time": "2024-02-13T07:08:44.702125",
     "exception": false,
     "start_time": "2024-02-13T07:08:44.697866",
     "status": "completed"
    },
    "tags": []
   },
   "source": [
    "-------------------------"
   ]
  },
  {
   "cell_type": "code",
   "execution_count": 5,
   "id": "8f2c0a75",
   "metadata": {
    "execution": {
     "iopub.execute_input": "2024-02-13T07:08:44.712192Z",
     "iopub.status.busy": "2024-02-13T07:08:44.711863Z",
     "iopub.status.idle": "2024-02-13T07:08:45.130030Z",
     "shell.execute_reply": "2024-02-13T07:08:45.129020Z"
    },
    "papermill": {
     "duration": 0.42599,
     "end_time": "2024-02-13T07:08:45.132383",
     "exception": false,
     "start_time": "2024-02-13T07:08:44.706393",
     "status": "completed"
    },
    "tags": []
   },
   "outputs": [],
   "source": [
    "#import dataset\n",
    "from langchain.document_loaders.csv_loader import CSVLoader\n",
    "file_path = '/kaggle/input/pokemon-corpus-2/corpus_df_2.csv'\n",
    "loader = CSVLoader(file_path=file_path)\n",
    "\n",
    "data = loader.load()"
   ]
  },
  {
   "cell_type": "code",
   "execution_count": 6,
   "id": "8dfe97e2",
   "metadata": {
    "execution": {
     "iopub.execute_input": "2024-02-13T07:08:45.143967Z",
     "iopub.status.busy": "2024-02-13T07:08:45.142833Z",
     "iopub.status.idle": "2024-02-13T07:08:46.996511Z",
     "shell.execute_reply": "2024-02-13T07:08:46.995539Z"
    },
    "papermill": {
     "duration": 1.861644,
     "end_time": "2024-02-13T07:08:46.998861",
     "exception": false,
     "start_time": "2024-02-13T07:08:45.137217",
     "status": "completed"
    },
    "tags": []
   },
   "outputs": [],
   "source": [
    "from langchain.text_splitter import RecursiveCharacterTextSplitter\n",
    "\n",
    "text_splitter = RecursiveCharacterTextSplitter(\n",
    "    chunk_size = 1500,\n",
    "    chunk_overlap = 150\n",
    ")\n",
    "\n",
    "#Create a split of the document using the text splitter\n",
    "splits = text_splitter.split_documents(data)"
   ]
  },
  {
   "cell_type": "markdown",
   "id": "a7cf61d9",
   "metadata": {
    "papermill": {
     "duration": 0.004203,
     "end_time": "2024-02-13T07:08:47.007665",
     "exception": false,
     "start_time": "2024-02-13T07:08:47.003462",
     "status": "completed"
    },
    "tags": []
   },
   "source": [
    "--------------------"
   ]
  },
  {
   "cell_type": "code",
   "execution_count": 7,
   "id": "ee070581",
   "metadata": {
    "execution": {
     "iopub.execute_input": "2024-02-13T07:08:47.017745Z",
     "iopub.status.busy": "2024-02-13T07:08:47.017238Z",
     "iopub.status.idle": "2024-02-13T07:08:47.146188Z",
     "shell.execute_reply": "2024-02-13T07:08:47.145472Z"
    },
    "papermill": {
     "duration": 0.136003,
     "end_time": "2024-02-13T07:08:47.148019",
     "exception": false,
     "start_time": "2024-02-13T07:08:47.012016",
     "status": "completed"
    },
    "tags": []
   },
   "outputs": [],
   "source": [
    "#embedding model\n",
    "\n",
    "from langchain_community.embeddings import VoyageEmbeddings\n",
    "\n",
    "embeddings = VoyageEmbeddings(voyage_api_key=\"YOUR_API_KEY\")\n"
   ]
  },
  {
   "cell_type": "code",
   "execution_count": 8,
   "id": "324ae73f",
   "metadata": {
    "execution": {
     "iopub.execute_input": "2024-02-13T07:08:47.158130Z",
     "iopub.status.busy": "2024-02-13T07:08:47.157431Z",
     "iopub.status.idle": "2024-02-13T07:41:47.883688Z",
     "shell.execute_reply": "2024-02-13T07:41:47.882490Z"
    },
    "papermill": {
     "duration": 1980.733777,
     "end_time": "2024-02-13T07:41:47.886169",
     "exception": false,
     "start_time": "2024-02-13T07:08:47.152392",
     "status": "completed"
    },
    "tags": []
   },
   "outputs": [],
   "source": [
    "from langchain_community.vectorstores import Chroma\n",
    "\n",
    "vectorstore = Chroma.from_documents(splits, embeddings)"
   ]
  },
  {
   "cell_type": "code",
   "execution_count": 9,
   "id": "19bd29ec",
   "metadata": {
    "execution": {
     "iopub.execute_input": "2024-02-13T07:41:47.898252Z",
     "iopub.status.busy": "2024-02-13T07:41:47.897933Z",
     "iopub.status.idle": "2024-02-13T07:41:48.465754Z",
     "shell.execute_reply": "2024-02-13T07:41:48.464723Z"
    },
    "papermill": {
     "duration": 0.576409,
     "end_time": "2024-02-13T07:41:48.467775",
     "exception": false,
     "start_time": "2024-02-13T07:41:47.891366",
     "status": "completed"
    },
    "tags": []
   },
   "outputs": [
    {
     "name": "stdout",
     "output_type": "stream",
     "text": [
      ": 242\n",
      "pokemon_info: Espeon (Japanese: エーフィ Eifie) is a Psychic-type Pokémon introduced in Generation II.\n",
      "It evolves from Eevee when leveled up with high friendship during the day.\n",
      "(Specifics may differ in past games. Refer to Game data→Evolution data for these details.)\n",
      "It is one of Eevee's final forms, the others being Vaporeon, Jolteon, Flareon, Umbreon, Leafeon, Glaceon, and Sylveon.\n",
      "Espeon is the starter Pokémon of Pokémon Colosseum alongside Umbreon.\n"
     ]
    }
   ],
   "source": [
    "query = \"How can I evolve Eevee into Espeon?\"\n",
    "docs = vectorstore.similarity_search(query)\n",
    "print(docs[0].page_content)"
   ]
  },
  {
   "cell_type": "markdown",
   "id": "084bdf44",
   "metadata": {
    "papermill": {
     "duration": 0.004624,
     "end_time": "2024-02-13T07:41:48.477579",
     "exception": false,
     "start_time": "2024-02-13T07:41:48.472955",
     "status": "completed"
    },
    "tags": []
   },
   "source": [
    "-----------------------------"
   ]
  },
  {
   "cell_type": "code",
   "execution_count": 10,
   "id": "6e15913c",
   "metadata": {
    "execution": {
     "iopub.execute_input": "2024-02-13T07:41:48.488077Z",
     "iopub.status.busy": "2024-02-13T07:41:48.487816Z",
     "iopub.status.idle": "2024-02-13T07:41:50.362304Z",
     "shell.execute_reply": "2024-02-13T07:41:50.361448Z"
    },
    "papermill": {
     "duration": 1.882523,
     "end_time": "2024-02-13T07:41:50.364871",
     "exception": false,
     "start_time": "2024-02-13T07:41:48.482348",
     "status": "completed"
    },
    "tags": []
   },
   "outputs": [],
   "source": [
    "#conversational chat history\n",
    "from langchain.chains import ConversationalRetrievalChain\n",
    "from langchain.prompts import ChatPromptTemplate\n",
    "\n",
    "#vectorstore = vectorstore\n",
    "retriever = vectorstore.as_retriever(search_type='similarity', search_kwargs = {\"k\" : 5})\n",
    "\n",
    "# This controls how the standalone question is generated.\n",
    "# Should take `chat_history` and `question` as input variables.\n",
    "template = (\n",
    "    \"\"\"\n",
    "    [INST]\n",
    "    You are an assisant for question-answering tasks.\n",
    "    Combine the chat history and follow up question into \n",
    "    a standalone question. Use the following pieces of \n",
    "    retrieved context to answer the question. If you \n",
    "    don't know the answer, say you don't know.\n",
    "    Chat History: {chat_history}\n",
    "    Follow up question: {question}\n",
    "    [/INST]\n",
    "    \"\"\"\n",
    ")\n",
    "prompt = ChatPromptTemplate.from_template(template)\n",
    "llm = mistral_llm\n",
    "chain = ConversationalRetrievalChain.from_llm(llm, retriever, prompt)\n"
   ]
  },
  {
   "cell_type": "code",
   "execution_count": 11,
   "id": "e440256c",
   "metadata": {
    "execution": {
     "iopub.execute_input": "2024-02-13T07:41:50.376579Z",
     "iopub.status.busy": "2024-02-13T07:41:50.376267Z",
     "iopub.status.idle": "2024-02-13T07:42:07.718457Z",
     "shell.execute_reply": "2024-02-13T07:42:07.717486Z"
    },
    "papermill": {
     "duration": 17.350342,
     "end_time": "2024-02-13T07:42:07.720805",
     "exception": false,
     "start_time": "2024-02-13T07:41:50.370463",
     "status": "completed"
    },
    "tags": []
   },
   "outputs": [
    {
     "name": "stderr",
     "output_type": "stream",
     "text": [
      "Setting `pad_token_id` to `eos_token_id`:2 for open-end generation.\n"
     ]
    },
    {
     "name": "stdout",
     "output_type": "stream",
     "text": [
      " No, Earthquake would not be a good move to use against Pidgeotto because Pidgeotto is a flying type Pokemon and flying types have immunity to ground moves like Earthquake.\n"
     ]
    }
   ],
   "source": [
    "chat_history = []\n",
    "\n",
    "question = \"Is earthquake a good move to use against Pidgeotto?\"\n",
    "\n",
    "result = chain({\"question\": question, \"chat_history\": chat_history})\n",
    "chat_history.append((question, result[\"answer\"]))\n",
    "print(result['answer'])"
   ]
  }
 ],
 "metadata": {
  "kaggle": {
   "accelerator": "nvidiaTeslaT4",
   "dataSources": [
    {
     "datasetId": 4383783,
     "sourceId": 7526359,
     "sourceType": "datasetVersion"
    },
    {
     "modelInstanceId": 3900,
     "sourceId": 5112,
     "sourceType": "modelInstanceVersion"
    }
   ],
   "dockerImageVersionId": 30635,
   "isGpuEnabled": true,
   "isInternetEnabled": true,
   "language": "python",
   "sourceType": "notebook"
  },
  "kernelspec": {
   "display_name": "Python 3 (ipykernel)",
   "language": "python",
   "name": "python3"
  },
  "language_info": {
   "codemirror_mode": {
    "name": "ipython",
    "version": 3
   },
   "file_extension": ".py",
   "mimetype": "text/x-python",
   "name": "python",
   "nbconvert_exporter": "python",
   "pygments_lexer": "ipython3",
   "version": "3.11.4"
  },
  "papermill": {
   "default_parameters": {},
   "duration": 2297.430125,
   "end_time": "2024-02-13T07:42:11.379018",
   "environment_variables": {},
   "exception": null,
   "input_path": "__notebook__.ipynb",
   "output_path": "__notebook__.ipynb",
   "parameters": {},
   "start_time": "2024-02-13T07:03:53.948893",
   "version": "2.4.0"
  },
  "widgets": {
   "application/vnd.jupyter.widget-state+json": {
    "state": {
     "0f1e838cb57f46a4a0c9f59b6d496df9": {
      "model_module": "@jupyter-widgets/controls",
      "model_module_version": "1.5.0",
      "model_name": "HTMLModel",
      "state": {
       "_dom_classes": [],
       "_model_module": "@jupyter-widgets/controls",
       "_model_module_version": "1.5.0",
       "_model_name": "HTMLModel",
       "_view_count": null,
       "_view_module": "@jupyter-widgets/controls",
       "_view_module_version": "1.5.0",
       "_view_name": "HTMLView",
       "description": "",
       "description_tooltip": null,
       "layout": "IPY_MODEL_2dbf42dc5b6c4032862b7ae06be0446f",
       "placeholder": "​",
       "style": "IPY_MODEL_e2fd7a17ebea410c873701a9ec743506",
       "value": "Loading checkpoint shards: 100%"
      }
     },
     "169f7bab7ba3440d93b308c543f22f65": {
      "model_module": "@jupyter-widgets/base",
      "model_module_version": "1.2.0",
      "model_name": "LayoutModel",
      "state": {
       "_model_module": "@jupyter-widgets/base",
       "_model_module_version": "1.2.0",
       "_model_name": "LayoutModel",
       "_view_count": null,
       "_view_module": "@jupyter-widgets/base",
       "_view_module_version": "1.2.0",
       "_view_name": "LayoutView",
       "align_content": null,
       "align_items": null,
       "align_self": null,
       "border": null,
       "bottom": null,
       "display": null,
       "flex": null,
       "flex_flow": null,
       "grid_area": null,
       "grid_auto_columns": null,
       "grid_auto_flow": null,
       "grid_auto_rows": null,
       "grid_column": null,
       "grid_gap": null,
       "grid_row": null,
       "grid_template_areas": null,
       "grid_template_columns": null,
       "grid_template_rows": null,
       "height": null,
       "justify_content": null,
       "justify_items": null,
       "left": null,
       "margin": null,
       "max_height": null,
       "max_width": null,
       "min_height": null,
       "min_width": null,
       "object_fit": null,
       "object_position": null,
       "order": null,
       "overflow": null,
       "overflow_x": null,
       "overflow_y": null,
       "padding": null,
       "right": null,
       "top": null,
       "visibility": null,
       "width": null
      }
     },
     "25d83f3b93084aa684581dc592592ef8": {
      "model_module": "@jupyter-widgets/controls",
      "model_module_version": "1.5.0",
      "model_name": "HTMLModel",
      "state": {
       "_dom_classes": [],
       "_model_module": "@jupyter-widgets/controls",
       "_model_module_version": "1.5.0",
       "_model_name": "HTMLModel",
       "_view_count": null,
       "_view_module": "@jupyter-widgets/controls",
       "_view_module_version": "1.5.0",
       "_view_name": "HTMLView",
       "description": "",
       "description_tooltip": null,
       "layout": "IPY_MODEL_9ada13f6ec594bcea719c5c1af264136",
       "placeholder": "​",
       "style": "IPY_MODEL_f67ae63fffb4446796117db5dc48b3ef",
       "value": " 2/2 [02:34&lt;00:00, 72.97s/it]"
      }
     },
     "2dbf42dc5b6c4032862b7ae06be0446f": {
      "model_module": "@jupyter-widgets/base",
      "model_module_version": "1.2.0",
      "model_name": "LayoutModel",
      "state": {
       "_model_module": "@jupyter-widgets/base",
       "_model_module_version": "1.2.0",
       "_model_name": "LayoutModel",
       "_view_count": null,
       "_view_module": "@jupyter-widgets/base",
       "_view_module_version": "1.2.0",
       "_view_name": "LayoutView",
       "align_content": null,
       "align_items": null,
       "align_self": null,
       "border": null,
       "bottom": null,
       "display": null,
       "flex": null,
       "flex_flow": null,
       "grid_area": null,
       "grid_auto_columns": null,
       "grid_auto_flow": null,
       "grid_auto_rows": null,
       "grid_column": null,
       "grid_gap": null,
       "grid_row": null,
       "grid_template_areas": null,
       "grid_template_columns": null,
       "grid_template_rows": null,
       "height": null,
       "justify_content": null,
       "justify_items": null,
       "left": null,
       "margin": null,
       "max_height": null,
       "max_width": null,
       "min_height": null,
       "min_width": null,
       "object_fit": null,
       "object_position": null,
       "order": null,
       "overflow": null,
       "overflow_x": null,
       "overflow_y": null,
       "padding": null,
       "right": null,
       "top": null,
       "visibility": null,
       "width": null
      }
     },
     "533b70fa752c49219b857f4066b2caba": {
      "model_module": "@jupyter-widgets/controls",
      "model_module_version": "1.5.0",
      "model_name": "ProgressStyleModel",
      "state": {
       "_model_module": "@jupyter-widgets/controls",
       "_model_module_version": "1.5.0",
       "_model_name": "ProgressStyleModel",
       "_view_count": null,
       "_view_module": "@jupyter-widgets/base",
       "_view_module_version": "1.2.0",
       "_view_name": "StyleView",
       "bar_color": null,
       "description_width": ""
      }
     },
     "6b5fcfe5c810421c900d6f29d552cb2d": {
      "model_module": "@jupyter-widgets/controls",
      "model_module_version": "1.5.0",
      "model_name": "HBoxModel",
      "state": {
       "_dom_classes": [],
       "_model_module": "@jupyter-widgets/controls",
       "_model_module_version": "1.5.0",
       "_model_name": "HBoxModel",
       "_view_count": null,
       "_view_module": "@jupyter-widgets/controls",
       "_view_module_version": "1.5.0",
       "_view_name": "HBoxView",
       "box_style": "",
       "children": [
        "IPY_MODEL_0f1e838cb57f46a4a0c9f59b6d496df9",
        "IPY_MODEL_f6694ebb43154f1fb4ca5e35aad042a5",
        "IPY_MODEL_25d83f3b93084aa684581dc592592ef8"
       ],
       "layout": "IPY_MODEL_cf674cf6c2264f4e8217ecab4112c8a2"
      }
     },
     "9ada13f6ec594bcea719c5c1af264136": {
      "model_module": "@jupyter-widgets/base",
      "model_module_version": "1.2.0",
      "model_name": "LayoutModel",
      "state": {
       "_model_module": "@jupyter-widgets/base",
       "_model_module_version": "1.2.0",
       "_model_name": "LayoutModel",
       "_view_count": null,
       "_view_module": "@jupyter-widgets/base",
       "_view_module_version": "1.2.0",
       "_view_name": "LayoutView",
       "align_content": null,
       "align_items": null,
       "align_self": null,
       "border": null,
       "bottom": null,
       "display": null,
       "flex": null,
       "flex_flow": null,
       "grid_area": null,
       "grid_auto_columns": null,
       "grid_auto_flow": null,
       "grid_auto_rows": null,
       "grid_column": null,
       "grid_gap": null,
       "grid_row": null,
       "grid_template_areas": null,
       "grid_template_columns": null,
       "grid_template_rows": null,
       "height": null,
       "justify_content": null,
       "justify_items": null,
       "left": null,
       "margin": null,
       "max_height": null,
       "max_width": null,
       "min_height": null,
       "min_width": null,
       "object_fit": null,
       "object_position": null,
       "order": null,
       "overflow": null,
       "overflow_x": null,
       "overflow_y": null,
       "padding": null,
       "right": null,
       "top": null,
       "visibility": null,
       "width": null
      }
     },
     "cf674cf6c2264f4e8217ecab4112c8a2": {
      "model_module": "@jupyter-widgets/base",
      "model_module_version": "1.2.0",
      "model_name": "LayoutModel",
      "state": {
       "_model_module": "@jupyter-widgets/base",
       "_model_module_version": "1.2.0",
       "_model_name": "LayoutModel",
       "_view_count": null,
       "_view_module": "@jupyter-widgets/base",
       "_view_module_version": "1.2.0",
       "_view_name": "LayoutView",
       "align_content": null,
       "align_items": null,
       "align_self": null,
       "border": null,
       "bottom": null,
       "display": null,
       "flex": null,
       "flex_flow": null,
       "grid_area": null,
       "grid_auto_columns": null,
       "grid_auto_flow": null,
       "grid_auto_rows": null,
       "grid_column": null,
       "grid_gap": null,
       "grid_row": null,
       "grid_template_areas": null,
       "grid_template_columns": null,
       "grid_template_rows": null,
       "height": null,
       "justify_content": null,
       "justify_items": null,
       "left": null,
       "margin": null,
       "max_height": null,
       "max_width": null,
       "min_height": null,
       "min_width": null,
       "object_fit": null,
       "object_position": null,
       "order": null,
       "overflow": null,
       "overflow_x": null,
       "overflow_y": null,
       "padding": null,
       "right": null,
       "top": null,
       "visibility": null,
       "width": null
      }
     },
     "e2fd7a17ebea410c873701a9ec743506": {
      "model_module": "@jupyter-widgets/controls",
      "model_module_version": "1.5.0",
      "model_name": "DescriptionStyleModel",
      "state": {
       "_model_module": "@jupyter-widgets/controls",
       "_model_module_version": "1.5.0",
       "_model_name": "DescriptionStyleModel",
       "_view_count": null,
       "_view_module": "@jupyter-widgets/base",
       "_view_module_version": "1.2.0",
       "_view_name": "StyleView",
       "description_width": ""
      }
     },
     "f6694ebb43154f1fb4ca5e35aad042a5": {
      "model_module": "@jupyter-widgets/controls",
      "model_module_version": "1.5.0",
      "model_name": "FloatProgressModel",
      "state": {
       "_dom_classes": [],
       "_model_module": "@jupyter-widgets/controls",
       "_model_module_version": "1.5.0",
       "_model_name": "FloatProgressModel",
       "_view_count": null,
       "_view_module": "@jupyter-widgets/controls",
       "_view_module_version": "1.5.0",
       "_view_name": "ProgressView",
       "bar_style": "success",
       "description": "",
       "description_tooltip": null,
       "layout": "IPY_MODEL_169f7bab7ba3440d93b308c543f22f65",
       "max": 2,
       "min": 0,
       "orientation": "horizontal",
       "style": "IPY_MODEL_533b70fa752c49219b857f4066b2caba",
       "value": 2
      }
     },
     "f67ae63fffb4446796117db5dc48b3ef": {
      "model_module": "@jupyter-widgets/controls",
      "model_module_version": "1.5.0",
      "model_name": "DescriptionStyleModel",
      "state": {
       "_model_module": "@jupyter-widgets/controls",
       "_model_module_version": "1.5.0",
       "_model_name": "DescriptionStyleModel",
       "_view_count": null,
       "_view_module": "@jupyter-widgets/base",
       "_view_module_version": "1.2.0",
       "_view_name": "StyleView",
       "description_width": ""
      }
     }
    },
    "version_major": 2,
    "version_minor": 0
   }
  }
 },
 "nbformat": 4,
 "nbformat_minor": 5
}
